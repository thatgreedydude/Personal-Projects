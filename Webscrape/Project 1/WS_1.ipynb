{
 "cells": [
  {
   "cell_type": "code",
   "execution_count": 21,
   "id": "6c3a6270-4dfb-4814-94e0-65368a5c4042",
   "metadata": {},
   "outputs": [],
   "source": [
    "from requests import get\n",
    "from bs4 import BeautifulSoup\n",
    "import csv"
   ]
  },
  {
   "cell_type": "code",
   "execution_count": 25,
   "id": "371e4dfc-30d0-4ef8-85a7-d9cba9236d56",
   "metadata": {},
   "outputs": [
    {
     "name": "stdout",
     "output_type": "stream",
     "text": [
      "Getting Data from architekten:\n",
      "........................................................................................................................................................................................................................................................................................................................................................................................................................................................................................................................................................................................................................................................................................\n",
      "Data successfully saved to architekten.csv\n",
      "Getting Data from innenarchitekten:\n",
      "............................................................................\n",
      "Data successfully saved to innenarchitekten.csv\n",
      "Getting Data from interior-designer:\n",
      "...............................................................................................................................................................................................................................................................................................................................................................................................................................................\n",
      "Data successfully saved to interior-designer.csv\n"
     ]
    }
   ],
   "source": [
    "list = [\"architekten\",\"innenarchitekten\",\"interior-designer\"]\n",
    "for i in list:\n",
    "    data = []\n",
    "    print(f\"Getting Data from {i}:\")\n",
    "    num = 0\n",
    "    while True:\n",
    "        url = f\"https://www.houzz.de/professionals/{i}/c/%C3%96sterreich/p/{num}\"\n",
    "        response = get(url).text\n",
    "        soup = BeautifulSoup(response, \"html.parser\")\n",
    "        try:\n",
    "            max = int(soup.find('div',{\"class\":\"directory-results-pagination__pro-count\"}).text.split(\" \")[0])\n",
    "        except AttributeError:\n",
    "            pass\n",
    "        details = soup.find_all('a', {\"class\":\"hz-pro-ctl\"})\n",
    "        for j in details:\n",
    "            link = j[\"href\"]\n",
    "            response2 = get(link).text\n",
    "            soup2 = BeautifulSoup(response2, \"html.parser\")\n",
    "            info = soup2.find_all('p',{\"class\":\"sc-mwxddt-0 cZJFpr\"})\n",
    "            name = info[0].text.strip()\n",
    "            first_name = name.split(\" \")[0]\n",
    "            tele_num = info[1].text.strip()\n",
    "            info2 = soup2.find('a',{\"class\":\"sc-62xgu6-0 cZBXc sc-mwxddt-0 kCqoeY hui-link\"})\n",
    "            try:\n",
    "                web_url = info2[\"href\"]\n",
    "            except TypeError:\n",
    "                web_url = \"None\"\n",
    "    \n",
    "            entry = {\n",
    "                \"first_name\" : first_name,\n",
    "                \"name\" : name, \n",
    "                \"contact\" : tele_num,\n",
    "                \"weblink\" : web_url\n",
    "            }\n",
    "            data.append(entry)\n",
    "            print(\".\", end=\"\")\n",
    "        num += 15\n",
    "        if num > max:\n",
    "            print(\"\")\n",
    "            break\n",
    "    keys = data[0].keys()\n",
    "    \n",
    "    with open(f'{i}.csv', 'w', newline='', encoding='utf-8') as output_file:\n",
    "        dict_writer = csv.DictWriter(output_file, keys)\n",
    "        dict_writer.writeheader()\n",
    "        dict_writer.writerows(data)\n",
    "\n",
    "    print(f\"Data successfully saved to {i}.csv\")\n",
    "        \n",
    "\n",
    "\n"
   ]
  },
  {
   "cell_type": "code",
   "execution_count": null,
   "id": "bd671b14-3a60-490d-b736-f01c8acb3c74",
   "metadata": {},
   "outputs": [],
   "source": []
  },
  {
   "cell_type": "code",
   "execution_count": null,
   "id": "1e7df7c0-bb9e-49f4-9ddd-e7fe3c2e360b",
   "metadata": {},
   "outputs": [],
   "source": []
  }
 ],
 "metadata": {
  "kernelspec": {
   "display_name": "Python 3 (ipykernel)",
   "language": "python",
   "name": "python3"
  },
  "language_info": {
   "codemirror_mode": {
    "name": "ipython",
    "version": 3
   },
   "file_extension": ".py",
   "mimetype": "text/x-python",
   "name": "python",
   "nbconvert_exporter": "python",
   "pygments_lexer": "ipython3",
   "version": "3.11.4"
  }
 },
 "nbformat": 4,
 "nbformat_minor": 5
}
